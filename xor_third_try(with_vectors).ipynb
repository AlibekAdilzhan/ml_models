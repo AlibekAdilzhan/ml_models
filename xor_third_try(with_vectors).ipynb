{
  "nbformat": 4,
  "nbformat_minor": 0,
  "metadata": {
    "colab": {
      "name": "xor third try(with vectors).ipynb",
      "private_outputs": true,
      "provenance": [],
      "collapsed_sections": [],
      "authorship_tag": "ABX9TyMTLAij6dSCTpN1ayp3ZFvb",
      "include_colab_link": true
    },
    "kernelspec": {
      "name": "python3",
      "display_name": "Python 3"
    },
    "language_info": {
      "name": "python"
    }
  },
  "cells": [
    {
      "cell_type": "markdown",
      "metadata": {
        "id": "view-in-github",
        "colab_type": "text"
      },
      "source": [
        "<a href=\"https://colab.research.google.com/github/AlibekAdilzhan/ml_models/blob/main/xor_third_try(with_vectors).ipynb\" target=\"_parent\"><img src=\"https://colab.research.google.com/assets/colab-badge.svg\" alt=\"Open In Colab\"/></a>"
      ]
    },
    {
      "cell_type": "code",
      "metadata": {
        "id": "eTRX6vZdoxYP"
      },
      "source": [
        "import numpy as np\n",
        "import pandas as pd\n",
        "import matplotlib.pyplot as plt"
      ],
      "execution_count": null,
      "outputs": []
    },
    {
      "cell_type": "code",
      "metadata": {
        "id": "0oGWoT8oo5BB"
      },
      "source": [
        "X = np.array([\n",
        "             [1, 1],\n",
        "             [1, 0],\n",
        "             [0, 1],\n",
        "             [0, 0],\n",
        "])\n",
        "\n",
        "Y = np.array([0, 1, 1, 0])"
      ],
      "execution_count": null,
      "outputs": []
    },
    {
      "cell_type": "code",
      "metadata": {
        "id": "Z7rRAMy_o8X_"
      },
      "source": [
        "def g_fn(x):\n",
        "    z = 1 / (1 + np.exp(-x))\n",
        "\n",
        "    return z"
      ],
      "execution_count": null,
      "outputs": []
    },
    {
      "cell_type": "code",
      "metadata": {
        "id": "SZkVBk2W4Mxl"
      },
      "source": [
        "W1 = np.array([\n",
        "               [0.2, 0.1],\n",
        "               [0.97, 0.63],\n",
        "]) \n",
        "\n",
        "W2 = np.array([\n",
        "               [0.2, 0.18]\n",
        "])\n",
        "\n",
        "B1 = np.array([[0.38], [0.632]])\n",
        "B2 = np.array([[0.46]])"
      ],
      "execution_count": null,
      "outputs": []
    },
    {
      "cell_type": "code",
      "metadata": {
        "id": "dozq68mso-s3"
      },
      "source": [
        "def forward_propogation(x, W1, W2, B1, B2):\n",
        "    x = x.reshape((1, 2))\n",
        "    A2 = W1.dot(x.T) + B1\n",
        "    Z2 = g_fn(A2)\n",
        "\n",
        "    A3 = W2.dot(Z2) + B2\n",
        "    Z3 = g_fn(A3)\n",
        "    # print(A2)\n",
        "\n",
        "    return A2, Z2, A3, Z3\n",
        "\n",
        "def backward_propogation(x, y, A2, A3, Z2, Z3, W1, W2, B1, B2):\n",
        "    x = x.reshape((1, 2))\n",
        "    dLda3 = -(y - g_fn(A3)) * g_fn(A3) * (1 - g_fn(A3))\n",
        "    dLdW2 = dLda3.dot(Z2.T)\n",
        "\n",
        "    z_temp = W2.T.dot(dLda3)\n",
        "    dLda2 = g_fn(A2) * (1 - g_fn(A2)) * z_temp\n",
        "    dLdW1 = dLda2.dot(x)\n",
        "\n",
        "    return dLdW1, dLdW2, dLda2, dLda3\n",
        "\n",
        "def mse(Y, Y_predicted):\n",
        "    z = np.sum((Y - Y_predicted)**2)\n",
        "    return z"
      ],
      "execution_count": null,
      "outputs": []
    },
    {
      "cell_type": "code",
      "metadata": {
        "id": "9otiviYP97-x"
      },
      "source": [
        "epoch = 10000\n",
        "N = 4\n",
        "alpha = 0.1\n",
        "\n",
        "W1 = np.array([\n",
        "               [0.2, 0.1],\n",
        "               [0.97, 0.63],\n",
        "]) \n",
        "\n",
        "W2 = np.array([\n",
        "               [0.2, 0.18]\n",
        "])\n",
        "\n",
        "B1 = np.array([[0.38], [0.632]])\n",
        "B2 = np.array([[0.46]])\n",
        "\n",
        "for _ in range(epoch):\n",
        "    Y_predicted = np.zeros(Y.shape)\n",
        "    for i in range(N):\n",
        "        A2, Z2, A3, Z3 = forward_propogation(X[i], W1, W2, B1, B2)\n",
        "        dLdW1, dLdW2, dLda2, dLda3 = backward_propogation(X[i], Y[i], A2, A3, Z2, Z3, W1, W2, B1, B2)\n",
        "\n",
        "        W1 = W1 - alpha * dLdW1\n",
        "        W2 = W2 - alpha * dLdW2\n",
        "        B1 = B1 - alpha * dLda2\n",
        "        B2 = B2 - alpha * dLda3\n",
        "\n",
        "        _, _, _, y_p = forward_propogation(X[i], W1, W2, B1, B2)\n",
        "        Y_predicted [i] = y_p\n",
        "    \n",
        "    print(mse(Y, Y_predicted))\n",
        "    # print(Y_predicted, Y)\n"
      ],
      "execution_count": null,
      "outputs": []
    },
    {
      "cell_type": "code",
      "metadata": {
        "id": "1xJi7I7Z-rti"
      },
      "source": [
        "_, _, _, y_p = forward_propogation(np.array([1, 0]), W1, W2, B1, B2)\n",
        "\n",
        "print(y_p)"
      ],
      "execution_count": null,
      "outputs": []
    },
    {
      "cell_type": "code",
      "metadata": {
        "id": "sJOymShWAFDP"
      },
      "source": [
        "a1 = np.array([1, 2, 4, 5])\n",
        "a2 = np.array([3, 2, 1, 8])\n",
        "\n",
        "a1 = a1.reshape((4, 1))\n",
        "a2 = a2.reshape((4, 1))\n",
        "print(a1)\n",
        "print(a2)\n",
        "print(a1 * a2)"
      ],
      "execution_count": null,
      "outputs": []
    },
    {
      "cell_type": "code",
      "metadata": {
        "id": "bqysSGFvMXfN"
      },
      "source": [
        "x1 = np.linspace(0, 1, 100)\n",
        "x2 = np.linspace(0, 1, 100)\n",
        "color = np.zeros((len(x1), len(x2)))\n",
        "\n",
        "for i in range(len(x1)):\n",
        "    for j in range(len(x2)):\n",
        "        _, _, _, y_predicted = forward_propogation(np.array([x1[i], x2[j]]), W1, W2, B1, B2)\n",
        "        if y_predicted >= 0.5:\n",
        "            color[i, j] = 1\n"
      ],
      "execution_count": null,
      "outputs": []
    },
    {
      "cell_type": "code",
      "metadata": {
        "id": "3HuGIn3ZZkvP"
      },
      "source": [
        "plt.imshow(color, cmap = 'gray')"
      ],
      "execution_count": null,
      "outputs": []
    },
    {
      "cell_type": "code",
      "metadata": {
        "id": "ziXA89a_ZwW3"
      },
      "source": [
        ""
      ],
      "execution_count": null,
      "outputs": []
    }
  ]
}