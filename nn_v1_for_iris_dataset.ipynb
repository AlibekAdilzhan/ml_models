{
  "nbformat": 4,
  "nbformat_minor": 0,
  "metadata": {
    "colab": {
      "name": "nn_v1 for iris dataset.ipynb",
      "private_outputs": true,
      "provenance": [],
      "collapsed_sections": [],
      "authorship_tag": "ABX9TyMlNe6xq/ZVqsgeFe4koHHw",
      "include_colab_link": true
    },
    "kernelspec": {
      "name": "python3",
      "display_name": "Python 3"
    },
    "language_info": {
      "name": "python"
    }
  },
  "cells": [
    {
      "cell_type": "markdown",
      "metadata": {
        "id": "view-in-github",
        "colab_type": "text"
      },
      "source": [
        "<a href=\"https://colab.research.google.com/github/AlibekAdilzhan/ml_models/blob/main/nn_v1_for_iris_dataset.ipynb\" target=\"_parent\"><img src=\"https://colab.research.google.com/assets/colab-badge.svg\" alt=\"Open In Colab\"/></a>"
      ]
    },
    {
      "cell_type": "code",
      "metadata": {
        "id": "TWjtGwiTGtvi"
      },
      "source": [
        "import numpy as np\n",
        "import pandas as pd\n",
        "import matplotlib.pyplot as plt"
      ],
      "execution_count": null,
      "outputs": []
    },
    {
      "cell_type": "code",
      "metadata": {
        "id": "WW4R200EGubx"
      },
      "source": [
        "class NeuralNetwork:\n",
        "    def __init__(self, layers, epoch_number, early_stopping = False, stopping_threshold = 0.1):\n",
        "        self.layers = layers\n",
        "        self.weights = []\n",
        "        self.biases = []\n",
        "        self.layers_number = len(layers)\n",
        "        self.errors = []\n",
        "        self.epoch = epoch_number\n",
        "        self.early_stopping = False\n",
        "        self.threshold = stopping_threshold\n",
        "\n",
        "\n",
        "    def g_fn(self, x):\n",
        "        z = 1 / (1 + np.exp(-x))\n",
        "\n",
        "        return z\n",
        "\n",
        "    def initialize_WB(self):\n",
        "        for i in range(len(self.layers) - 1):\n",
        "            W = np.random.rand(self.layers[i + 1], self.layers[i])\n",
        "            B = np.random.rand(self.layers[i + 1], 1)\n",
        "            self.biases.append(B)\n",
        "            self.weights.append(W)\n",
        "\n",
        "    def mse(self, Y, Y_predicted):\n",
        "        z = np.sum((Y - Y_predicted)**2)\n",
        "        return z\n",
        "\n",
        "    def forward_propogation(self, x):\n",
        "        A = [0]\n",
        "        Z = [x.T]\n",
        "\n",
        "        for i in range(self.layers_number - 1):\n",
        "            Zi = Z[i]\n",
        "            # print(Zi)\n",
        "            Wi = self.weights[i]\n",
        "            Bi = self.biases[i]\n",
        "            A_next = Wi.dot(Zi) + Bi\n",
        "            Z_next = self.g_fn(A_next)\n",
        "\n",
        "            A.append(A_next)\n",
        "            Z.append(Z_next)\n",
        "        \n",
        "        return A, Z\n",
        "\n",
        "    def backward_propogation(self, x, y, A, Z):\n",
        "        y = y.reshape(len(y), 1)\n",
        "        dLdA = []\n",
        "        dLdW = []\n",
        "\n",
        "        A_last = A[-1]\n",
        "        Z_last = Z[-1]\n",
        "        Z_pre_last = Z[-2]\n",
        "        # print(A_last, 'it is A')\n",
        "        # print(y, 'and that is y')\n",
        "\n",
        "        dLda_last = -(y - self.g_fn(A_last)) * self.g_fn(A_last) * (1 - self.g_fn(A_last))\n",
        "        dLdW_last = dLda_last.dot(Z_pre_last.T)\n",
        "\n",
        "        dLdA.insert(0, dLda_last)\n",
        "        dLdW.insert(0, dLdW_last)\n",
        "\n",
        "        for i in list(reversed(range(1, self.layers_number - 1))):\n",
        "            dLda_next_layer = dLdA[0]\n",
        "            Ai = A[i]\n",
        "            Z_previous_layer = Z[i - 1]\n",
        "            Wi = self.weights[i]\n",
        "            dLdai = self.g_fn(Ai) * (1 - self.g_fn(Ai)) * Wi.T.dot(dLda_next_layer)\n",
        "            dLdWi = dLdai.dot(Z_previous_layer.T)\n",
        "\n",
        "            dLdA.insert(0, dLdai)\n",
        "            dLdW.insert(0, dLdWi)\n",
        "\n",
        "        return dLdA, dLdW\n",
        "\n",
        "    def fit(self, X, Y):\n",
        "        N = len(X)\n",
        "        alpha = 0.6\n",
        "        Y_predicted = np.zeros(Y.shape)\n",
        "\n",
        "        for _ in range(self.epoch):\n",
        "            for i in range(N):\n",
        "                x = X[i]\n",
        "                y = Y[i]\n",
        "                x = x.reshape((1, self.layers[0]))\n",
        "                A, Z = self.forward_propogation(x)\n",
        "                dLdA, dLdW = self.backward_propogation(x, y, A, Z)\n",
        "\n",
        "                for j in range(len(self.weights)):\n",
        "                    self.weights[j] = self.weights[j] - alpha * dLdW[j]\n",
        "\n",
        "                for j in range(len(self.biases)):\n",
        "                    self.biases[j] = self.biases[j] - alpha * dLdA[j]\n",
        "\n",
        "                _, Z1 = self.forward_propogation(x)\n",
        "                Y_predicted[i] = Z1[-1].T[0]\n",
        "                # print(Y_predicted[i], Y[i])\n",
        "                current_error = self.mse(Y_predicted[i], Y[i])\n",
        "                print(current_error)\n",
        "                # print(Z1[-1].T[0])\n",
        "            \n",
        "            error = self.mse(Y, Y_predicted)\n",
        "            self.errors.append(error)\n",
        "            \n",
        "            if self.early_stopping == True:\n",
        "                if error < self.threshold:\n",
        "                    break\n",
        "\n",
        "\n"
      ],
      "execution_count": null,
      "outputs": []
    },
    {
      "cell_type": "code",
      "metadata": {
        "id": "UWuKhqyKGwyc"
      },
      "source": [
        "from sklearn.datasets import load_iris\n",
        "\n",
        "data =  load_iris()\n",
        "\n",
        "X = data['data']\n",
        "Y = data['target']"
      ],
      "execution_count": null,
      "outputs": []
    },
    {
      "cell_type": "code",
      "metadata": {
        "id": "E4YLShmxezLZ"
      },
      "source": [
        "print(Y.shape)"
      ],
      "execution_count": null,
      "outputs": []
    },
    {
      "cell_type": "code",
      "metadata": {
        "id": "60uEA3VXHhMn"
      },
      "source": [
        "l = []\n",
        "\n",
        "for i in range(len(Y)):\n",
        "    a = np.zeros(3)\n",
        "    a[Y[i]] = 1\n",
        "    l.append(a)\n",
        "\n",
        "Y_one_hot = np.array(l)\n",
        "print(Y_one_hot[0])"
      ],
      "execution_count": null,
      "outputs": []
    },
    {
      "cell_type": "code",
      "metadata": {
        "id": "c-U8s7NHIsM8"
      },
      "source": [
        "nn_iris = NeuralNetwork([4, 5, 3], 10000, True)\n",
        "nn_iris.initialize_WB()"
      ],
      "execution_count": null,
      "outputs": []
    },
    {
      "cell_type": "code",
      "metadata": {
        "id": "lF4kYSWKNRF3"
      },
      "source": [
        "indices = np.random.permutation(len(X))\n",
        "\n",
        "X_shuffeled, Y_shuffeled = X[indices], Y_one_hot[indices]\n",
        "X_train = X_shuffeled[: 120]\n",
        "Y_train = Y_shuffeled[: 120]\n",
        "X_test = X_shuffeled[120 : ]\n",
        "Y_test = Y_shuffeled[120 : ]"
      ],
      "execution_count": null,
      "outputs": []
    },
    {
      "cell_type": "code",
      "metadata": {
        "id": "HjwWl8yBMb5S"
      },
      "source": [
        "nn_iris.fit(X_train, Y_train)"
      ],
      "execution_count": null,
      "outputs": []
    },
    {
      "cell_type": "code",
      "metadata": {
        "id": "jTxBb1uUOLP6"
      },
      "source": [
        "nn_iris.errors[-2]"
      ],
      "execution_count": null,
      "outputs": []
    },
    {
      "cell_type": "code",
      "metadata": {
        "id": "bUyZJgnvQ0Ui"
      },
      "source": [
        "print(min(nn_iris.errors))"
      ],
      "execution_count": null,
      "outputs": []
    },
    {
      "cell_type": "code",
      "metadata": {
        "id": "jIG0LiNlYezP"
      },
      "source": [
        "print(nn_iris.errors)"
      ],
      "execution_count": null,
      "outputs": []
    },
    {
      "cell_type": "code",
      "metadata": {
        "id": "-o8MNJo5Yik-"
      },
      "source": [
        "error_number = 0\n",
        "\n",
        "for i in range(len(X_test)):\n",
        "    _, Z1 = nn_iris.forward_propogation(X_test[i])\n",
        "    y_predicted = Z1[-1].T[0]\n",
        "    max_argument = np.argmax(y_predicted)\n",
        "    if int(Y_test[0][max_argument]) != 1:\n",
        "        error_number += 1"
      ],
      "execution_count": null,
      "outputs": []
    },
    {
      "cell_type": "code",
      "metadata": {
        "id": "FdjkEN5IrY3a"
      },
      "source": [
        "print(y_predicted)\n",
        "print(Y_test[-1])"
      ],
      "execution_count": null,
      "outputs": []
    },
    {
      "cell_type": "code",
      "metadata": {
        "id": "VM9C8dgnam1J"
      },
      "source": [
        "print(error_number / len(X_test))"
      ],
      "execution_count": null,
      "outputs": []
    },
    {
      "cell_type": "code",
      "metadata": {
        "id": "S56cstSmatKe"
      },
      "source": [
        "fig = plt.figure(figsize = (10, 6))\n",
        "\n",
        "plt.plot(nn_iris.errors[4000 : ])"
      ],
      "execution_count": null,
      "outputs": []
    },
    {
      "cell_type": "code",
      "metadata": {
        "id": "H3lxIVkTqU4h"
      },
      "source": [
        ""
      ],
      "execution_count": null,
      "outputs": []
    }
  ]
}