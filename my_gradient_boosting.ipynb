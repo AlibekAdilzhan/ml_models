{
  "nbformat": 4,
  "nbformat_minor": 0,
  "metadata": {
    "colab": {
      "name": "my_gradient_boosting.ipynb",
      "private_outputs": true,
      "provenance": [],
      "collapsed_sections": [],
      "authorship_tag": "ABX9TyNBV8fcGHzAAO80boCr1a/6",
      "include_colab_link": true
    },
    "kernelspec": {
      "name": "python3",
      "display_name": "Python 3"
    },
    "language_info": {
      "name": "python"
    }
  },
  "cells": [
    {
      "cell_type": "markdown",
      "metadata": {
        "id": "view-in-github",
        "colab_type": "text"
      },
      "source": [
        "<a href=\"https://colab.research.google.com/github/AlibekAdilzhan/ml_models/blob/main/my_gradient_boosting.ipynb\" target=\"_parent\"><img src=\"https://colab.research.google.com/assets/colab-badge.svg\" alt=\"Open In Colab\"/></a>"
      ]
    },
    {
      "cell_type": "code",
      "metadata": {
        "id": "QKZbx41vzQVm"
      },
      "source": [
        "import numpy as np\n",
        "import pandas as pd\n",
        "import matplotlib.pyplot as plt"
      ],
      "execution_count": null,
      "outputs": []
    },
    {
      "cell_type": "code",
      "metadata": {
        "id": "MeujO03uhwdn"
      },
      "source": [
        "from sklearn.tree import DecisionTreeRegressor"
      ],
      "execution_count": null,
      "outputs": []
    },
    {
      "cell_type": "code",
      "metadata": {
        "id": "DHEQYMbkyhEE"
      },
      "source": [
        "df = pd.read_csv('sample_data/california_housing_train.csv')\n",
        "df = df.dropna()\n",
        "df.describe()\n",
        "df_test = df[15000 : 17000]\n",
        "df = df[ : 15000]\n",
        "# np.where(np.isnan(df))\n",
        "df.describe()"
      ],
      "execution_count": null,
      "outputs": []
    },
    {
      "cell_type": "code",
      "metadata": {
        "id": "wwkm6oULykPz"
      },
      "source": [
        "X_train = df.drop([\"median_house_value\"], axis = 1)\n",
        "Y_train = df[\"median_house_value\"]\n",
        "# type(X_train[\"Age\"])\n",
        "X_train"
      ],
      "execution_count": null,
      "outputs": []
    },
    {
      "cell_type": "code",
      "metadata": {
        "id": "DC1tWTRoymKF"
      },
      "source": [
        "Y_train = Y_train.apply(lambda x: 1 if x > 350000 else -1)"
      ],
      "execution_count": null,
      "outputs": []
    },
    {
      "cell_type": "code",
      "metadata": {
        "id": "u2G-tsGwyowf"
      },
      "source": [
        "from copy import deepcopy"
      ],
      "execution_count": null,
      "outputs": []
    },
    {
      "cell_type": "code",
      "metadata": {
        "id": "EsWukseWzukY"
      },
      "source": [
        "def loss_fn(y, f):\n",
        "    lf = np.log(1 + np.exp(-2 * y * f))\n",
        "\n",
        "    return lf\n",
        "\n",
        "def dLdf(y, f):\n",
        "    dlf = 1 / (1 + np.exp(-2 * y * f)) * (-2 * y) * np.exp(-2 * y * f)\n",
        "    return dlf\n",
        "\n",
        "def find_gamma(Y):\n",
        "    gamma = np.random.rand()\n",
        "    alpha = 0.1 # learning rate for finding gamma\n",
        "    epsilon = 0.001\n",
        "\n",
        "    while True:\n",
        "        gamma_previous = gamma\n",
        "        dL_theta = 0\n",
        "\n",
        "        dL = dLdf(Y, gamma)\n",
        "        dL_theta = np.sum(dL) / len(Y)\n",
        "        # print(dL_theta, 'this is the dL_theta', gamma)\n",
        "        gamma = gamma - alpha * dL_theta\n",
        "        # print(gamma_previous, gamma)\n",
        "        if abs(gamma_previous - gamma) < epsilon:\n",
        "            break\n",
        "\n",
        "    return gamma\n",
        "\n",
        "\n",
        "def model_output(models, rhos, x):\n",
        "    output = rhos[0]\n",
        "\n",
        "    for i in range(1, len(models)):\n",
        "        model = models[i]\n",
        "        prediction = model.predict(x)\n",
        "        output += prediction * rhos[i]\n",
        "\n",
        "    return output\n",
        "\n",
        "def find_rho(models, rhos, new_model, X, Y):\n",
        "    rho = np.random.rand()\n",
        "    alpha = 0.001 # learning rate for finding rho\n",
        "    epsilon = 0.0001\n",
        "\n",
        "    while True:\n",
        "        rho_previous = rho\n",
        "        # dL_theta = 0\n",
        "        y_bar = model_output(models, rhos, X)\n",
        "        prediction = new_model.predict(X)\n",
        "        y_bar_new = y_bar + prediction * rho\n",
        "        # print(y_bar_new.shape)\n",
        "\n",
        "        z = dLdf(Y, y_bar_new) * prediction\n",
        "        dL_theta = np.sum(z) / len(Y)\n",
        "\n",
        "        rho = rho - alpha * dL_theta\n",
        "        print(rho)\n",
        "        if abs(rho - rho_previous) < epsilon:\n",
        "            break\n",
        "    \n",
        "    return rho\n",
        "\n",
        "\n",
        "def GBM(X, Y, num_iterations):\n",
        "    models = []\n",
        "    rhos = []\n",
        "    gamma = find_gamma(Y)\n",
        "    models.append(1)\n",
        "    rhos.append(gamma)\n",
        "    # print(gamma)\n",
        "    # print('haha')\n",
        "\n",
        "    for i in range(num_iterations):\n",
        "        # print(i)\n",
        "        if i == 0:\n",
        "            y_bar = gamma\n",
        "        else:\n",
        "            y_bar = model_output(models, rhos, X)\n",
        "\n",
        "        # for j in range(len(residuals)):\n",
        "        residuals = -dLdf(Y, y_bar)\n",
        "        regression_tree = DecisionTreeRegressor(max_depth = 3)\n",
        "        regression_tree.fit(X, residuals)\n",
        "\n",
        "        # print('gege', i)\n",
        "        rho = find_rho(models, rhos, regression_tree, X, Y)\n",
        "        # print(rho)\n",
        "\n",
        "        models.append(deepcopy(regression_tree))\n",
        "        rhos.append(rho)\n",
        "    \n",
        "    return models, rhos\n",
        "        \n",
        "        "
      ],
      "execution_count": null,
      "outputs": []
    },
    {
      "cell_type": "code",
      "metadata": {
        "id": "zk4X7FigpZ32"
      },
      "source": [
        "models, rhos = GBM(X_train, Y_train, 50)"
      ],
      "execution_count": null,
      "outputs": []
    },
    {
      "cell_type": "code",
      "metadata": {
        "id": "WYXSYKqvy_i7"
      },
      "source": [
        "np.random.rand()"
      ],
      "execution_count": null,
      "outputs": []
    },
    {
      "cell_type": "code",
      "metadata": {
        "id": "3PFnXSI764_q"
      },
      "source": [
        "# df_test = pd.read_csv('sample_data/california_housing_test.csv')\n",
        "X_test = df_test.drop('median_house_value', axis = 1)\n",
        "Y_test = df_test['median_house_value']\n",
        "Y_test = Y_test.apply(lambda x: 1 if x > 350000 else -1)\n",
        "Y_test"
      ],
      "execution_count": null,
      "outputs": []
    },
    {
      "cell_type": "code",
      "metadata": {
        "id": "qrUb97j97nVH"
      },
      "source": [
        "prediction = np.zeros(Y_test.shape).astype(float)\n",
        "\n",
        "prediction = model_output(models, rhos, X_test)"
      ],
      "execution_count": null,
      "outputs": []
    },
    {
      "cell_type": "code",
      "metadata": {
        "id": "MIVKT_p-8AQ8"
      },
      "source": [
        "prediction_category = np.zeros(prediction.shape)\n",
        "\n",
        "for i in range(len(Y_test)):\n",
        "    if prediction[i] >= 0:\n",
        "        prediction_category[i] = 1\n",
        "    else:\n",
        "        prediction_category[i] = -1"
      ],
      "execution_count": null,
      "outputs": []
    },
    {
      "cell_type": "code",
      "metadata": {
        "id": "8QgQVvUN8Fpt"
      },
      "source": [
        "results = (prediction_category == Y_test).astype(int)\n",
        "print(np.sum(results) / len(Y_test))"
      ],
      "execution_count": null,
      "outputs": []
    },
    {
      "cell_type": "code",
      "metadata": {
        "id": "-3gwZZip8HFD"
      },
      "source": [
        "prediction.shape"
      ],
      "execution_count": null,
      "outputs": []
    },
    {
      "cell_type": "code",
      "metadata": {
        "id": "bzxZBrB78SUB"
      },
      "source": [
        "for i in prediction:\n",
        "    print(i)"
      ],
      "execution_count": null,
      "outputs": []
    },
    {
      "cell_type": "code",
      "metadata": {
        "id": "TbXqecp28iZx"
      },
      "source": [
        "np.sum(Y_test < 0) / len(Y_test)"
      ],
      "execution_count": null,
      "outputs": []
    },
    {
      "cell_type": "code",
      "metadata": {
        "id": "z96nMsjL8qas"
      },
      "source": [
        "np.sum(prediction > 0)"
      ],
      "execution_count": null,
      "outputs": []
    },
    {
      "cell_type": "code",
      "metadata": {
        "id": "5871qtHN8-t1"
      },
      "source": [
        ""
      ],
      "execution_count": null,
      "outputs": []
    }
  ]
}