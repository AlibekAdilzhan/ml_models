{
  "nbformat": 4,
  "nbformat_minor": 0,
  "metadata": {
    "colab": {
      "name": "cnn_for_multiclass_classification_1v1.ipynb",
      "private_outputs": true,
      "provenance": [],
      "authorship_tag": "ABX9TyMtXBK7O1Bv8T8E/O661hes",
      "include_colab_link": true
    },
    "kernelspec": {
      "name": "python3",
      "display_name": "Python 3"
    },
    "language_info": {
      "name": "python"
    }
  },
  "cells": [
    {
      "cell_type": "markdown",
      "metadata": {
        "id": "view-in-github",
        "colab_type": "text"
      },
      "source": [
        "<a href=\"https://colab.research.google.com/github/AlibekAdilzhan/ml_models/blob/main/cnn_for_multiclass_classification_1v1.ipynb\" target=\"_parent\"><img src=\"https://colab.research.google.com/assets/colab-badge.svg\" alt=\"Open In Colab\"/></a>"
      ]
    },
    {
      "cell_type": "code",
      "metadata": {
        "id": "K8s6Q28ZGgWE"
      },
      "source": [
        "import numpy as np\n",
        "import matplotlib.pyplot as plt"
      ],
      "execution_count": null,
      "outputs": []
    },
    {
      "cell_type": "code",
      "metadata": {
        "id": "aSDT9jhgQjuz"
      },
      "source": [
        "from keras.models import Sequential\n",
        "classifier = Sequential()"
      ],
      "execution_count": null,
      "outputs": []
    },
    {
      "cell_type": "code",
      "metadata": {
        "id": "_hm6UH5JQnff"
      },
      "source": [
        "from keras.layers import Conv2D\n",
        "\n",
        "classifier.add(Conv2D(filters = 16, kernel_size = (3, 3), strides = (1, 1),\n",
        "                      input_shape = (96, 96, 3), activation = 'relu'))"
      ],
      "execution_count": null,
      "outputs": []
    },
    {
      "cell_type": "code",
      "metadata": {
        "id": "tbYjTfjlRDVs"
      },
      "source": [
        "from keras.layers import MaxPooling2D\n",
        "\n",
        "\n",
        "classifier.add(MaxPooling2D(pool_size = (2, 2)))"
      ],
      "execution_count": null,
      "outputs": []
    },
    {
      "cell_type": "code",
      "metadata": {
        "id": "QsvXS7rBRQ7N"
      },
      "source": [
        "classifier.add(Conv2D(filters = 32, kernel_size = (3, 3),\n",
        "                      activation = 'relu'))\n",
        "classifier.add(MaxPooling2D(pool_size = (2, 2)))"
      ],
      "execution_count": null,
      "outputs": []
    },
    {
      "cell_type": "code",
      "metadata": {
        "id": "BgTlCjQtRiSF"
      },
      "source": [
        "classifier.add(Conv2D(filters = 64, kernel_size = (3, 3),\n",
        "                      activation = 'relu'))\n",
        "classifier.add(MaxPooling2D(pool_size = (2, 2)))"
      ],
      "execution_count": null,
      "outputs": []
    },
    {
      "cell_type": "code",
      "metadata": {
        "id": "egnVeDwxR4OX"
      },
      "source": [
        "from keras.layers import Flatten\n",
        "\n",
        "classifier.add(Flatten())"
      ],
      "execution_count": null,
      "outputs": []
    },
    {
      "cell_type": "code",
      "metadata": {
        "id": "U55iFhVQR8rV"
      },
      "source": [
        "from keras.layers import Dense\n",
        "from keras.layers import Dropout\n",
        "\n",
        "classifier.add(Dense(units = 128, activation = 'relu'))\n",
        "classifier.add(Dropout(rate = 0.2))\n",
        "classifier.add(Dense(units = 27, activation = 'softmax'))"
      ],
      "execution_count": null,
      "outputs": []
    },
    {
      "cell_type": "code",
      "metadata": {
        "id": "bDHtZjqqTrAZ"
      },
      "source": [
        "classifier.compile(optimizer = 'adam', loss = 'categorical_crossentropy', metrics = ['accuracy'])"
      ],
      "execution_count": null,
      "outputs": []
    },
    {
      "cell_type": "code",
      "metadata": {
        "id": "dKsB67omT6sP"
      },
      "source": [
        "from keras.preprocessing.image import ImageDataGenerator\n",
        "\n",
        "train_datagen = ImageDataGenerator(\n",
        "    rescale = 1. / 255,\n",
        "    shear_range = 0.3,\n",
        "    zoom_range = 0.3,\n",
        "    horizontal_flip = True,\n",
        "    validation_split = 0.2\n",
        ")\n",
        "\n",
        "# test_datagen = ImageDataGenerator(rescale = 1. / 255)"
      ],
      "execution_count": null,
      "outputs": []
    },
    {
      "cell_type": "code",
      "metadata": {
        "id": "NYMo4JQoUWPT"
      },
      "source": [
        "from google.colab import drive\n",
        "drive.mount('/content/gdrive')"
      ],
      "execution_count": null,
      "outputs": []
    },
    {
      "cell_type": "code",
      "metadata": {
        "id": "Jb_5h9rrUca-"
      },
      "source": [
        "!unzip gdrive/My\\ Drive/data_s/tr"
      ],
      "execution_count": null,
      "outputs": []
    },
    {
      "cell_type": "code",
      "metadata": {
        "id": "rVMo1GaTUrBf"
      },
      "source": [
        "training_set = train_datagen.flow_from_directory('tr',\n",
        "                                                 target_size = (96, 96),\n",
        "                                                 batch_size = 32,\n",
        "                                                 class_mode = 'categorical',\n",
        "                                                 subset = 'training')\n",
        "\n",
        "\n",
        "test_set = train_datagen.flow_from_directory('tr',\n",
        "                                                 target_size = (96, 96),\n",
        "                                                 batch_size = 32,\n",
        "                                                 class_mode = 'categorical',\n",
        "                                                 subset = 'validation')\n",
        "\n"
      ],
      "execution_count": null,
      "outputs": []
    },
    {
      "cell_type": "code",
      "metadata": {
        "id": "M1mEbanUVtXI"
      },
      "source": [
        "classifier.fit_generator(training_set,\n",
        "                         steps_per_epoch = 100,\n",
        "                         epochs = 30,\n",
        "                         validation_data = test_set, validation_steps = 24)"
      ],
      "execution_count": null,
      "outputs": []
    },
    {
      "cell_type": "code",
      "metadata": {
        "id": "cLpIhY9cuTVs"
      },
      "source": [
        "!unzip gdrive/My\\ Drive/data_s/task_2"
      ],
      "execution_count": null,
      "outputs": []
    },
    {
      "cell_type": "code",
      "metadata": {
        "id": "rwVn9j26uTSi"
      },
      "source": [
        "from keras.preprocessing import image\n",
        "import os\n",
        "results = {}\n",
        "for root, dirs, files in os.walk(\"test_images\"):\n",
        "    for filename in files:\n",
        "        sss = training_set.class_indices\n",
        "        # cv2.impred('test_images/filename')\n",
        "        # print(filename)\n",
        "        test_image = image.load_img(f\"test_images/{filename}\", target_size=(96, 96) )\n",
        "\n",
        "        test_image = image.img_to_array(test_image)\n",
        "        # test_image = test_image / 255\n",
        "\n",
        "        test_image = np.expand_dims(test_image, axis=0)\n",
        "\n",
        "        result = np.argmax(classifier.predict(test_image))\n",
        "        for k in sss.keys():\n",
        "            if sss[k] == result:\n",
        "                bn = k\n",
        "\n",
        "        results[filename] = bn\n",
        "        \n",
        "        # print(result)"
      ],
      "execution_count": null,
      "outputs": []
    },
    {
      "cell_type": "code",
      "metadata": {
        "id": "ozFgnTgKuTPT"
      },
      "source": [
        "np.argmax(results[0])"
      ],
      "execution_count": null,
      "outputs": []
    },
    {
      "cell_type": "code",
      "metadata": {
        "id": "JIcPxn8muTMX"
      },
      "source": [
        "type(training_set.class_indices)"
      ],
      "execution_count": null,
      "outputs": []
    },
    {
      "cell_type": "code",
      "metadata": {
        "id": "dsiaC7pJuTJJ"
      },
      "source": [
        "results"
      ],
      "execution_count": null,
      "outputs": []
    },
    {
      "cell_type": "code",
      "metadata": {
        "id": "rUxpW9vbuTDU"
      },
      "source": [
        "ke = list(results.keys())\n",
        "bnn = list(results.values())"
      ],
      "execution_count": null,
      "outputs": []
    },
    {
      "cell_type": "code",
      "metadata": {
        "id": "pjUxODmU0BDa"
      },
      "source": [
        "print(ke[0])\n",
        "print(bnn[0])"
      ],
      "execution_count": null,
      "outputs": []
    },
    {
      "cell_type": "code",
      "metadata": {
        "id": "QjXMHiQS0A-U"
      },
      "source": [
        "df = pd.DataFrame()"
      ],
      "execution_count": null,
      "outputs": []
    },
    {
      "cell_type": "code",
      "metadata": {
        "id": "ag0pfsQ40A5L"
      },
      "source": [
        "import csv\n",
        "\n",
        "a_file = open(\"res.csv\", \"w\")\n",
        "# a_dict = {\"a\": 1, \"b\": 2}\n",
        "\n",
        "writer = csv.writer(a_file)\n",
        "for key, value in results.items():\n",
        "    writer.writerow([key, value])\n",
        "\n",
        "a_file.close()"
      ],
      "execution_count": null,
      "outputs": []
    },
    {
      "cell_type": "code",
      "metadata": {
        "id": "W26jj7ee0A09"
      },
      "source": [
        ""
      ],
      "execution_count": null,
      "outputs": []
    },
    {
      "cell_type": "code",
      "metadata": {
        "id": "zMiULwM40AwE"
      },
      "source": [
        ""
      ],
      "execution_count": null,
      "outputs": []
    }
  ]
}