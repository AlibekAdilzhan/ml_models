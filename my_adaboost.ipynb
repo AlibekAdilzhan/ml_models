{
  "nbformat": 4,
  "nbformat_minor": 0,
  "metadata": {
    "colab": {
      "name": "my_adaboost.ipynb",
      "private_outputs": true,
      "provenance": [],
      "collapsed_sections": [],
      "authorship_tag": "ABX9TyNMkk2C67ITB6bY/TQ+h33s",
      "include_colab_link": true
    },
    "kernelspec": {
      "name": "python3",
      "display_name": "Python 3"
    },
    "language_info": {
      "name": "python"
    }
  },
  "cells": [
    {
      "cell_type": "markdown",
      "metadata": {
        "id": "view-in-github",
        "colab_type": "text"
      },
      "source": [
        "<a href=\"https://colab.research.google.com/github/AlibekAdilzhan/ml_models/blob/main/my_adaboost.ipynb\" target=\"_parent\"><img src=\"https://colab.research.google.com/assets/colab-badge.svg\" alt=\"Open In Colab\"/></a>"
      ]
    },
    {
      "cell_type": "code",
      "metadata": {
        "id": "7SjLLcgiuPKU"
      },
      "source": [
        "import pandas as pd\n",
        "import numpy as np\n",
        "import matplotlib.pyplot as plt"
      ],
      "execution_count": null,
      "outputs": []
    },
    {
      "cell_type": "code",
      "metadata": {
        "id": "swa-f-bvuY5C"
      },
      "source": [
        "df = pd.read_csv('sample_data/california_housing_train.csv')\n",
        "df = df.dropna()\n",
        "df.describe()\n",
        "df_test = df[15000 : 17000]\n",
        "df = df[ : 15000]\n",
        "# np.where(np.isnan(df))\n",
        "df.describe()"
      ],
      "execution_count": null,
      "outputs": []
    },
    {
      "cell_type": "code",
      "metadata": {
        "id": "kYKkB7ZrufeZ"
      },
      "source": [
        "X_train = df.drop([\"median_house_value\"], axis = 1)\n",
        "Y_train = df[\"median_house_value\"]\n",
        "# type(X_train[\"Age\"])\n",
        "X_train"
      ],
      "execution_count": null,
      "outputs": []
    },
    {
      "cell_type": "code",
      "metadata": {
        "id": "MdLSMTnoAcea"
      },
      "source": [
        "Y_train = Y_train.apply(lambda x: 1 if x > 350000 else -1)"
      ],
      "execution_count": null,
      "outputs": []
    },
    {
      "cell_type": "code",
      "metadata": {
        "id": "Fg94wuRXvYqx"
      },
      "source": [
        "from sklearn.tree import DecisionTreeClassifier"
      ],
      "execution_count": null,
      "outputs": []
    },
    {
      "cell_type": "code",
      "metadata": {
        "id": "Qxvfw6nB7yaG"
      },
      "source": [
        "from copy import deepcopy"
      ],
      "execution_count": null,
      "outputs": []
    },
    {
      "cell_type": "code",
      "metadata": {
        "id": "VV_pbRVkvxed"
      },
      "source": [
        "def my_adaboost(X_train, Y_train, model_number):\n",
        "    models_list = []\n",
        "    alphas_list = []\n",
        "    # model_number = 30\n",
        "    X_train['W'] = [1 / len(X_train)] * len(X_train)\n",
        "    X = X_train.copy()\n",
        "    Y = Y_train.copy()\n",
        "\n",
        "    for i in range(model_number):\n",
        "        tree_model = DecisionTreeClassifier(max_depth = 3)\n",
        "        tree_model.fit(X.drop(['W'], axis = 1), Y, sample_weight = X['W'])\n",
        "        models_list.append(deepcopy(tree_model))\n",
        "\n",
        "        Y_predict = tree_model.predict(X.drop(['W'], axis = 1))\n",
        "        # print(Y_predict)\n",
        "        right_indices = (Y_predict != Y).astype(int)\n",
        "        weights = X['W'] * right_indices\n",
        "        epsilon = np.sum(weights)\n",
        "\n",
        "        alpha = 1 / 2 * np.log((1 - epsilon) / epsilon)\n",
        "        alphas_list.append(alpha)\n",
        "\n",
        "        for i in range(len(X['W'])):\n",
        "            if right_indices[i] == 1:\n",
        "                X['W'][i] *= np.exp(-Y[i] * alpha * Y_predict[i])\n",
        "\n",
        "        X['W'] /= np.sum(np.array(X['W']))\n",
        "\n",
        "    return models_list, alphas_list\n",
        "    \n",
        "    "
      ],
      "execution_count": null,
      "outputs": []
    },
    {
      "cell_type": "code",
      "metadata": {
        "id": "aINEIIwB5nOO"
      },
      "source": [
        "models_list, aphas_list = my_adaboost(X_train, Y_train, 30)"
      ],
      "execution_count": null,
      "outputs": []
    },
    {
      "cell_type": "code",
      "metadata": {
        "id": "akGhX0mt5whC"
      },
      "source": [
        "# df_test = pd.read_csv('sample_data/california_housing_test.csv')\n",
        "X_test = df_test.drop('median_house_value', axis = 1)\n",
        "Y_test = df_test['median_house_value']\n",
        "Y_test = Y_test.apply(lambda x: 1 if x > 350000 else -1)\n",
        "Y_test"
      ],
      "execution_count": null,
      "outputs": []
    },
    {
      "cell_type": "code",
      "metadata": {
        "id": "PWk1pPCIKlhA"
      },
      "source": [
        "prediction = np.zeros(Y_test.shape).astype(float)\n",
        "\n",
        "print(prediction)\n",
        "for i in range(len(models_list)):\n",
        "    model = models_list[i]\n",
        "    alpha = aphas_list[i]\n",
        "\n",
        "    prediction += alpha * model.predict(X_test).T\n",
        "\n",
        "# prediction = (prediction > 0).astype(int)\n",
        "prediction"
      ],
      "execution_count": null,
      "outputs": []
    },
    {
      "cell_type": "code",
      "metadata": {
        "id": "fnqNJLbOnjFv"
      },
      "source": [
        "prediction_category = np.zeros(prediction.shape)\n",
        "\n",
        "for i in range(len(Y_test)):\n",
        "    if prediction[i] >= 0:\n",
        "        prediction_category[i] = 1\n",
        "    else:\n",
        "        prediction_category[i] = -1"
      ],
      "execution_count": null,
      "outputs": []
    },
    {
      "cell_type": "code",
      "metadata": {
        "id": "D7--2-n-LzFT"
      },
      "source": [
        "results = (prediction_category == Y_test).astype(int)\n",
        "print(np.sum(results))"
      ],
      "execution_count": null,
      "outputs": []
    },
    {
      "cell_type": "code",
      "metadata": {
        "id": "y8QJt0u5ic-w"
      },
      "source": [
        "print(len(Y_test))\n",
        "Y_test_array = np.array(Y_test.copy())"
      ],
      "execution_count": null,
      "outputs": []
    },
    {
      "cell_type": "code",
      "metadata": {
        "id": "PoMac-g8iifb"
      },
      "source": [
        "print(np.sum(results) / len(Y_test))\n"
      ],
      "execution_count": null,
      "outputs": []
    },
    {
      "cell_type": "code",
      "metadata": {
        "id": "B0c4yvJTixXG"
      },
      "source": [
        "print(results)"
      ],
      "execution_count": null,
      "outputs": []
    },
    {
      "cell_type": "code",
      "metadata": {
        "id": "h2hxAU3soa98"
      },
      "source": [
        "print(Y_test)"
      ],
      "execution_count": null,
      "outputs": []
    },
    {
      "cell_type": "code",
      "metadata": {
        "id": "y8makiAXoeR4"
      },
      "source": [
        "print(prediction_category)"
      ],
      "execution_count": null,
      "outputs": []
    },
    {
      "cell_type": "code",
      "metadata": {
        "id": "03pwkE0MohLD"
      },
      "source": [
        "from sklearn.ensemble import AdaBoostClassifier"
      ],
      "execution_count": null,
      "outputs": []
    },
    {
      "cell_type": "code",
      "metadata": {
        "id": "rNaZlBuqwEnW"
      },
      "source": [
        "aBoost = AdaBoostClassifier(n_estimators = 30, learning_rate = 0.5)\n",
        "aBoost.fit(X_train.drop(['W'], axis = 1), Y_train)"
      ],
      "execution_count": null,
      "outputs": []
    },
    {
      "cell_type": "code",
      "metadata": {
        "id": "ZS-0d9ZvwZbh"
      },
      "source": [
        "prediction_boost = aBoost.predict(X_test)\n",
        "prediction_boost"
      ],
      "execution_count": null,
      "outputs": []
    },
    {
      "cell_type": "code",
      "metadata": {
        "id": "7-bRYMhXwjRo"
      },
      "source": [
        "results_boost = (prediction_boost == Y_test).astype(int)\n",
        "\n",
        "print(np.sum(results_boost) / len(Y_test))\n"
      ],
      "execution_count": null,
      "outputs": []
    },
    {
      "cell_type": "code",
      "metadata": {
        "id": "6fUlIjGexD3_"
      },
      "source": [
        ""
      ],
      "execution_count": null,
      "outputs": []
    }
  ]
}