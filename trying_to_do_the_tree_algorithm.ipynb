{
  "nbformat": 4,
  "nbformat_minor": 0,
  "metadata": {
    "colab": {
      "name": "trying to do the tree algorithm.ipynb",
      "private_outputs": true,
      "provenance": [],
      "collapsed_sections": [],
      "authorship_tag": "ABX9TyOK5PiDUmwGcOEiWpPTot3I",
      "include_colab_link": true
    },
    "kernelspec": {
      "name": "python3",
      "display_name": "Python 3"
    },
    "language_info": {
      "name": "python"
    }
  },
  "cells": [
    {
      "cell_type": "markdown",
      "metadata": {
        "id": "view-in-github",
        "colab_type": "text"
      },
      "source": [
        "<a href=\"https://colab.research.google.com/github/AlibekAdilzhan/ml_models/blob/main/trying_to_do_the_tree_algorithm.ipynb\" target=\"_parent\"><img src=\"https://colab.research.google.com/assets/colab-badge.svg\" alt=\"Open In Colab\"/></a>"
      ]
    },
    {
      "cell_type": "code",
      "metadata": {
        "id": "ruQFzNLzpEy2"
      },
      "source": [
        "import numpy as np\n",
        "import pandas as pd"
      ],
      "execution_count": null,
      "outputs": []
    },
    {
      "cell_type": "code",
      "metadata": {
        "id": "_60yXuoSFzE2"
      },
      "source": [
        "def compute_gini(column, class_1, class_2):\n",
        "    p = np.sum(column == class_1) / len(column)\n",
        "    q = np.sum(column == class_2) / len(column)\n",
        "\n",
        "    gini = 1 - p**2 - q**2\n",
        "\n",
        "    return gini\n",
        "     \n",
        "\n",
        "def tree(columns, data, target_column, k, instruction, min_gini, max_depth = 10):\n",
        "    print(min_gini)\n",
        "    old_min_gini = min_gini\n",
        "    if len(data[target_column].unique()) <= 1:\n",
        "        return instruction\n",
        "\n",
        "    class_1 = data[target_column].unique()[0]\n",
        "    class_2 = data[target_column].unique()[1]\n",
        "    gini_has_changed = False\n",
        "\n",
        "    depth = int(np.log2(k))\n",
        "    # print(depth)\n",
        "\n",
        "    if depth <= max_depth:\n",
        "        for column in data.columns:\n",
        "            if column != target_column:\n",
        "                df = data.sort_values(column)\n",
        "                unique_values = df[column].unique()\n",
        "                for j in range(len(unique_values) - 1):\n",
        "                    unique_value = unique_values[j]\n",
        "                    # print(j, 'this is j')\n",
        "                    # print(df[column], j, 'gege')\n",
        "                    group_1 = df[df[column] <= unique_value][target_column]\n",
        "                    group_2 = df[df[column] > unique_value][target_column]\n",
        "\n",
        "                    gini_1 = compute_gini(group_1, class_1, class_2)\n",
        "                    gini_2 = compute_gini(group_2, class_1, class_2)\n",
        "\n",
        "                    mini_gini_12 = min(gini_1, gini_2)\n",
        "                    # print(mini_gini_12, min_gini)\n",
        "                    if mini_gini_12 < min_gini:\n",
        "                        gini_has_changed = True\n",
        "                        min_gini = mini_gini_12\n",
        "                        min_gini_pair = (gini_1, gini_2)\n",
        "                        min_gini_column = column \n",
        "                        min_gini_index  = j\n",
        "                        min_gini_unique_value = unique_value\n",
        "\n",
        "        # print(min_gini_pair)        \n",
        "\n",
        "        if not gini_has_changed:\n",
        "            return instruction\n",
        "\n",
        "        else:\n",
        "            data = data.sort_values(min_gini_column)\n",
        "            data_left = data[data[min_gini_column] <= min_gini_unique_value]\n",
        "            data_right = data[data[min_gini_column] > min_gini_unique_value]\n",
        "\n",
        "            instruction[k] = [j, min_gini_column, min_gini_pair]\n",
        "            instruction = tree(columns, data_left, target_column, 2 * k, instruction, min_gini_pair[0], max_depth)\n",
        "            instruction = tree(columns, data_right, target_column, 2 * k + 1, instruction, min_gini_pair[1], max_depth)\n",
        "\n",
        "    return instruction\n",
        "\n",
        "\n",
        "\n",
        "                \n",
        "\n",
        "\n"
      ],
      "execution_count": null,
      "outputs": []
    },
    {
      "cell_type": "code",
      "metadata": {
        "id": "Uuy2iGL0afB-"
      },
      "source": [
        "instruction = tree(df.columns, df, 'tc', 1, {}, 10, 10)"
      ],
      "execution_count": null,
      "outputs": []
    },
    {
      "cell_type": "code",
      "metadata": {
        "id": "dKrdioE2jd_U"
      },
      "source": [
        "instruction"
      ],
      "execution_count": null,
      "outputs": []
    },
    {
      "cell_type": "code",
      "metadata": {
        "id": "gQcPkTA-e5oz"
      },
      "source": [
        "a = np.array([\n",
        "              [1, 1, 5.342, 0],\n",
        "              [4, 0, 1.32, 1],\n",
        "              [1, 1, 3.54, 0],\n",
        "              [5, 0, 3.221, 1],\n",
        "              [3, 0, 3.2, 1],\n",
        "              [2, 1, 5.2, 1],\n",
        "              [1, 0, 3.9, 0],\n",
        "              [6, 1, 3.2, 1],\n",
        "              [2, 0, 4.5, 0],\n",
        "              [2, 1, 8.8, 0],\n",
        "])\n",
        "\n",
        "df = pd.DataFrame(a, columns = ['a1', 'a2', 'a3', 'tc'])"
      ],
      "execution_count": null,
      "outputs": []
    },
    {
      "cell_type": "code",
      "metadata": {
        "id": "1mXD-1OfaeOd"
      },
      "source": [
        "tc = 'tc'\n",
        "\n",
        "df[tc]"
      ],
      "execution_count": null,
      "outputs": []
    },
    {
      "cell_type": "code",
      "metadata": {
        "id": "C5V9EiRUfePn"
      },
      "source": [
        "df[df['a1'] < 3]['a1']"
      ],
      "execution_count": null,
      "outputs": []
    },
    {
      "cell_type": "code",
      "metadata": {
        "id": "UxqhPDfjfldK"
      },
      "source": [
        "np.sum(df['a1'] == 1.0)"
      ],
      "execution_count": null,
      "outputs": []
    },
    {
      "cell_type": "code",
      "metadata": {
        "id": "0x--0jXVjuWr"
      },
      "source": [
        "df['a1'].unique()"
      ],
      "execution_count": null,
      "outputs": []
    },
    {
      "cell_type": "code",
      "metadata": {
        "id": "FYATZyqaju3Z"
      },
      "source": [
        "df.sort_values('a1')[ : 7]"
      ],
      "execution_count": null,
      "outputs": []
    },
    {
      "cell_type": "code",
      "metadata": {
        "id": "JGpmKpJHon8R"
      },
      "source": [
        "def af(c, k):\n",
        "    c += k\n",
        "    if k - 1 != 0:\n",
        "        return af(c, k - 1)\n",
        "    return c"
      ],
      "execution_count": null,
      "outputs": []
    },
    {
      "cell_type": "code",
      "metadata": {
        "id": "paBt4sWKVuCX"
      },
      "source": [
        "c = 10\n",
        "k = 3\n",
        "c = af(c, k)\n",
        "print(c)"
      ],
      "execution_count": null,
      "outputs": []
    },
    {
      "cell_type": "code",
      "metadata": {
        "id": "HOQGzkykVxS-"
      },
      "source": [
        "def bf(l, a):\n",
        "    print(a)\n",
        "    if a == 0:\n",
        "        return l \n",
        "    else:\n",
        "        l.append(a)\n",
        "        # l = bf(l, a + 1)\n",
        "        l = bf(l, a - 1)\n",
        "        return l"
      ],
      "execution_count": null,
      "outputs": []
    },
    {
      "cell_type": "code",
      "metadata": {
        "id": "FFrGdQCfkYOB"
      },
      "source": [
        "l = []\n",
        "a = 5\n",
        "l = bf(l, a)"
      ],
      "execution_count": null,
      "outputs": []
    },
    {
      "cell_type": "code",
      "metadata": {
        "id": "IvhZq9WNkfZA"
      },
      "source": [
        "l"
      ],
      "execution_count": null,
      "outputs": []
    },
    {
      "cell_type": "code",
      "metadata": {
        "id": "JX_JwzIXl4V1"
      },
      "source": [
        ""
      ],
      "execution_count": null,
      "outputs": []
    }
  ]
}