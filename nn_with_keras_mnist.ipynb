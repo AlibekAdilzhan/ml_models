{
  "nbformat": 4,
  "nbformat_minor": 0,
  "metadata": {
    "colab": {
      "name": "nn_with_keras_mnist.ipynb",
      "private_outputs": true,
      "provenance": [],
      "collapsed_sections": [],
      "authorship_tag": "ABX9TyOThf+qdwug4MxZI9YD8rH7",
      "include_colab_link": true
    },
    "kernelspec": {
      "name": "python3",
      "display_name": "Python 3"
    },
    "language_info": {
      "name": "python"
    }
  },
  "cells": [
    {
      "cell_type": "markdown",
      "metadata": {
        "id": "view-in-github",
        "colab_type": "text"
      },
      "source": [
        "<a href=\"https://colab.research.google.com/github/AlibekAdilzhan/ml_models/blob/main/nn_with_keras_mnist.ipynb\" target=\"_parent\"><img src=\"https://colab.research.google.com/assets/colab-badge.svg\" alt=\"Open In Colab\"/></a>"
      ]
    },
    {
      "cell_type": "code",
      "metadata": {
        "id": "b_ZABNWssoAP"
      },
      "source": [
        "import numpy as np\n",
        "import matplotlib.pyplot as plt"
      ],
      "execution_count": null,
      "outputs": []
    },
    {
      "cell_type": "code",
      "metadata": {
        "id": "wDPcEijRw7HH"
      },
      "source": [
        "from keras.datasets import mnist\n",
        "(train_X, train_y), (test_X, test_y) = mnist.load_data()"
      ],
      "execution_count": null,
      "outputs": []
    },
    {
      "cell_type": "code",
      "metadata": {
        "id": "h5gRvEqi_hm0"
      },
      "source": [
        "flattened_train_X = train_X.reshape(train_X.shape[0], 784)\n",
        "flattened_test_X = test_X.reshape(test_X.shape[0], 784)\n",
        "print(train_y.shape)"
      ],
      "execution_count": null,
      "outputs": []
    },
    {
      "cell_type": "code",
      "metadata": {
        "id": "NLeisvugxXkN"
      },
      "source": [
        "from keras import Sequential\n",
        "from keras.layers import Dense"
      ],
      "execution_count": null,
      "outputs": []
    },
    {
      "cell_type": "code",
      "metadata": {
        "id": "gsBTwZkFxqZw"
      },
      "source": [
        "classifier = Sequential()\n",
        "\n",
        "classifier.add(Dense(256, activation = 'sigmoid', \n",
        "                     kernel_initializer = 'random_normal', input_dim = 784))\n",
        "\n",
        "classifier.add(Dense(128, activation = 'sigmoid',\n",
        "                     kernel_initializer = 'random_normal'))\n",
        "\n",
        "classifier.add(Dense(64, activation = 'sigmoid',\n",
        "                     kernel_initializer = 'random_normal'))\n",
        "\n",
        "classifier.add(Dense(10, activation = 'softmax',\n",
        "                     kernel_initializer = 'random_normal'))"
      ],
      "execution_count": null,
      "outputs": []
    },
    {
      "cell_type": "code",
      "metadata": {
        "id": "hDLY6CzDzeJq"
      },
      "source": [
        "classifier.compile(optimizer = 'adam', loss = 'categorical_crossentropy', metrics = ['accuracy'])"
      ],
      "execution_count": null,
      "outputs": []
    },
    {
      "cell_type": "code",
      "metadata": {
        "id": "p323VnzpA2N-"
      },
      "source": [
        "l = []\n",
        "\n",
        "for i in range(len(train_y)):\n",
        "    a = np.zeros(10)\n",
        "    a[train_y[i]] = 1\n",
        "    l.append(a)\n",
        "\n",
        "Y_one_hot = np.array(l)"
      ],
      "execution_count": null,
      "outputs": []
    },
    {
      "cell_type": "code",
      "metadata": {
        "id": "CZWBKP4FBPIU"
      },
      "source": [
        "print(Y_one_hot[0])"
      ],
      "execution_count": null,
      "outputs": []
    },
    {
      "cell_type": "code",
      "metadata": {
        "id": "XBSE7WYQ_fk2"
      },
      "source": [
        "classifier.fit(flattened_train_X, Y_one_hot, batch_size = 100, epochs = 10)"
      ],
      "execution_count": null,
      "outputs": []
    },
    {
      "cell_type": "code",
      "metadata": {
        "id": "tfPkfwuLAUxl"
      },
      "source": [
        "evaluate_model = classifier.evaluate(flattened_train_X, Y_one_hot)\n",
        "evaluate_model"
      ],
      "execution_count": null,
      "outputs": []
    },
    {
      "cell_type": "code",
      "metadata": {
        "id": "1C0pAjcvCM3t"
      },
      "source": [
        "y_prediction = classifier.predict(flattened_test_X)\n"
      ],
      "execution_count": null,
      "outputs": []
    },
    {
      "cell_type": "code",
      "metadata": {
        "id": "YQHfu1RFCV_7"
      },
      "source": [
        "y_prediction"
      ],
      "execution_count": null,
      "outputs": []
    },
    {
      "cell_type": "code",
      "metadata": {
        "id": "NDOZ7W3rCW-C"
      },
      "source": [
        "error_number = 0\n",
        "\n",
        "for i in range(len(y_prediction)):\n",
        "    prediction = np.argmax(y_prediction[i])\n",
        "    if prediction != test_y[i]:\n",
        "        error_number += 1\n",
        "\n",
        "print(error_number / len(y_prediction))"
      ],
      "execution_count": null,
      "outputs": []
    },
    {
      "cell_type": "code",
      "metadata": {
        "id": "qaW6gqdNCxmr"
      },
      "source": [
        "y_prediction[100]"
      ],
      "execution_count": null,
      "outputs": []
    },
    {
      "cell_type": "code",
      "metadata": {
        "id": "F9YoMzAJC-t4"
      },
      "source": [
        "test_y[100]"
      ],
      "execution_count": null,
      "outputs": []
    },
    {
      "cell_type": "code",
      "metadata": {
        "id": "ATpugj6iDA7Z"
      },
      "source": [
        "for i in range(20):\n",
        "    figure = plt.figure(figsize = (5, 5))\n",
        "    plt.title(np.argmax(y_prediction[10 * i]))\n",
        "    plt.imshow(test_X[10 * i], cmap = 'gray')"
      ],
      "execution_count": null,
      "outputs": []
    },
    {
      "cell_type": "code",
      "metadata": {
        "id": "2y-lmZLYDGCm"
      },
      "source": [
        ""
      ],
      "execution_count": null,
      "outputs": []
    }
  ]
}